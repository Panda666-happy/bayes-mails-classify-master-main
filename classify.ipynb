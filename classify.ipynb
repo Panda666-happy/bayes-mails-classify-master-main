{
 "cells": [
  {
   "cell_type": "code",
   "id": "initial_id",
   "metadata": {
    "collapsed": true,
    "ExecuteTime": {
     "end_time": "2025-03-31T07:33:28.412298Z",
     "start_time": "2025-03-31T07:33:27.292292Z"
    }
   },
   "source": [
    "import re\n",
    "import os\n",
    "from jieba import cut\n",
    "from itertools import chain\n",
    "from collections import Counter\n",
    "import numpy as np\n",
    "from sklearn.naive_bayes import MultinomialNB\n",
    "from sklearn.feature_extraction.text import TfidfVectorizer\n",
    "from imblearn.over_sampling import SMOTE\n",
    "from sklearn.metrics import classification_report\n",
    "from sklearn.utils.validation import validate_data"
   ],
   "outputs": [],
   "execution_count": 1
  },
  {
   "metadata": {
    "ExecuteTime": {
     "end_time": "2025-03-31T07:33:49.980236Z",
     "start_time": "2025-03-31T07:33:49.967236Z"
    }
   },
   "cell_type": "code",
   "source": [
    "def get_words(filename):\n",
    "    \"\"\"读取文本并过滤无效字符和长度为1的词\"\"\"\n",
    "    words = []\n",
    "    try:\n",
    "        with open(filename, 'r', encoding='utf-8') as fr:\n",
    "            for line in fr:\n",
    "                line = line.strip()\n",
    "                # 过滤无效字符\n",
    "                line = re.sub(r'[.【】0-9、——。，！~\\*]', '', line)\n",
    "                # 使用jieba.cut()方法对文本切词处理\n",
    "                line = cut(line)\n",
    "                # 过滤长度为1的词\n",
    "                line = filter(lambda word: len(word) > 1, line)\n",
    "                words.extend(line)\n",
    "    except FileNotFoundError:\n",
    "        print(f\"警告: 文件 {filename} 未找到\")\n",
    "    except Exception as e:\n",
    "        print(f\"处理文件 {filename} 时出错: {str(e)}\")\n",
    "    return words\n"
   ],
   "id": "abe4d778b2a9c158",
   "outputs": [],
   "execution_count": 2
  },
  {
   "metadata": {
    "ExecuteTime": {
     "end_time": "2025-03-31T07:37:27.103329Z",
     "start_time": "2025-03-31T07:37:27.086323Z"
    }
   },
   "cell_type": "code",
   "source": [
    "def get_top_words(top_num):\n",
    "    \"\"\"遍历邮件建立词库后返回出现次数最多的词\"\"\"\n",
    "    if top_num <= 0:\n",
    "        raise ValueError(\"top_num 必须为正整数\")\n",
    "    \n",
    "    filename_list = ['邮件_files/{}.txt'.format(i) for i in range(151)]\n",
    "    all_words = []\n",
    "    # 遍历邮件建立词库\n",
    "    for filename in filename_list:\n",
    "        all_words.append(get_words(filename))\n",
    "    # itertools.chain()把all_words内的所有列表组合成一个列表\n",
    "    # collections.Counter()统计词个数\n",
    "    freq = Counter(chain(*all_words))\n",
    "    return [i[0] for i in freq.most_common(top_num)]\n"
   ],
   "id": "4b57c2b59e7087b2",
   "outputs": [],
   "execution_count": 3
  },
  {
   "metadata": {
    "ExecuteTime": {
     "end_time": "2025-03-31T07:37:29.396333Z",
     "start_time": "2025-03-31T07:37:29.387325Z"
    }
   },
   "cell_type": "code",
   "source": [
    "def extract_features(selection_method, top_num=100):\n",
    "    if selection_method not in ['high_frequency', 'tf_idf']:\n",
    "        raise ValueError(\"不支持的特征选择方法，请选择 'high_frequency' 或 'tf_idf'\")\n",
    "    \n",
    "    filename_list = ['邮件_files/{}.txt'.format(i) for i in range(151)]\n",
    "    \n",
    "    if selection_method == 'high_frequency':\n",
    "        if top_num <= 0:\n",
    "            raise ValueError(\"top_num 必须为正整数\")\n",
    "        top_words = get_top_words(top_num)\n",
    "        all_words = []\n",
    "        for filename in filename_list:\n",
    "            all_words.append(get_words(filename))\n",
    "        vector = []\n",
    "        for words in all_words:\n",
    "            word_map = list(map(lambda word: words.count(word), top_words))\n",
    "            vector.append(word_map)\n",
    "        vector = np.array(vector)\n",
    "        return vector\n",
    "    else:  # tf_idf\n",
    "        corpus = []\n",
    "        for filename in filename_list:\n",
    "            words = get_words(filename)\n",
    "            corpus.append(' '.join(words))\n",
    "        vectorizer = TfidfVectorizer()\n",
    "        vector = vectorizer.fit_transform(corpus)\n",
    "        return vector.toarray()\n"
   ],
   "id": "bf6bd76d29601ed9",
   "outputs": [],
   "execution_count": 4
  },
  {
   "metadata": {
    "ExecuteTime": {
     "end_time": "2025-03-31T07:37:31.965330Z",
     "start_time": "2025-03-31T07:37:31.949326Z"
    }
   },
   "cell_type": "code",
   "source": [
    "def predict(filename, model, selection_method='tf_idf', top_num=100):\n",
    "    \"\"\"对未知邮件分类\"\"\"\n",
    "    try:\n",
    "        if selection_method == 'high_frequency':\n",
    "            top_words = get_top_words(top_num)\n",
    "            # 构建未知邮件的词向量\n",
    "            words = get_words(filename)\n",
    "            current_vector = np.array(\n",
    "                tuple(map(lambda word: words.count(word), top_words)))\n",
    "        elif selection_method == 'tf_idf':\n",
    "            filename_list = ['邮件_files/{}.txt'.format(i) for i in range(151)]\n",
    "            corpus = []\n",
    "            for f in filename_list:\n",
    "                ws = get_words(f)\n",
    "                corpus.append(' '.join(ws))\n",
    "            vectorizer = TfidfVectorizer()\n",
    "            vectorizer.fit(corpus)\n",
    "            words = get_words(filename)\n",
    "            current_vector = vectorizer.transform([' '.join(words)]).toarray()\n",
    "        else:\n",
    "            raise ValueError(\"不支持的特征选择方法\")\n",
    "        \n",
    "        # 预测结果\n",
    "        result = model.predict(current_vector.reshape(1, -1))\n",
    "        return '垃圾邮件' if result == 1 else '普通邮件'\n",
    "    except Exception as e:\n",
    "        print(f\"预测文件 {filename} 时出错: {str(e)}\")\n",
    "        return '未知'\n"
   ],
   "id": "485888f7276544fc",
   "outputs": [],
   "execution_count": 5
  },
  {
   "metadata": {
    "ExecuteTime": {
     "end_time": "2025-03-31T07:37:34.296327Z",
     "start_time": "2025-03-31T07:37:34.291327Z"
    }
   },
   "cell_type": "code",
   "source": [
    "print(\"正在提取特征...\")\n",
    "try:\n",
    "    vector = extract_features(selection_method)\n",
    "    print(\"特征提取完成!\")\n",
    "except Exception as e:\n",
    "    print(f\"特征提取失败: {str(e)}\")"
   ],
   "id": "30bc5bc5d3343f53",
   "outputs": [
    {
     "name": "stdout",
     "output_type": "stream",
     "text": [
      "正在提取特征...\n",
      "特征提取失败: name 'selection_method' is not defined\n"
     ]
    }
   ],
   "execution_count": 6
  },
  {
   "metadata": {
    "ExecuteTime": {
     "end_time": "2025-03-31T07:37:36.671333Z",
     "start_time": "2025-03-31T07:37:36.657328Z"
    }
   },
   "cell_type": "code",
   "source": "labels = np.array([1] * 127 + [0] * 24)",
   "id": "3ae9ac8c2429cd2d",
   "outputs": [],
   "execution_count": 7
  },
  {
   "metadata": {
    "ExecuteTime": {
     "end_time": "2025-03-31T07:37:39.193329Z",
     "start_time": "2025-03-31T07:37:39.188329Z"
    }
   },
   "cell_type": "code",
   "source": [
    "print(\"正在进行过采样...\")\n",
    "try:\n",
    "    smote = SMOTE(random_state=42)\n",
    "    vector_resampled, labels_resampled = smote.fit_resample(vector, labels)\n",
    "    print(\"过采样完成!\")\n",
    "except Exception as e:\n",
    "    print(f\"过采样失败: {str(e)}\")"
   ],
   "id": "baf16a1754d963d8",
   "outputs": [
    {
     "name": "stdout",
     "output_type": "stream",
     "text": [
      "正在进行过采样...\n",
      "过采样失败: name 'vector' is not defined\n"
     ]
    }
   ],
   "execution_count": 8
  },
  {
   "metadata": {
    "ExecuteTime": {
     "end_time": "2025-03-31T07:37:41.767330Z",
     "start_time": "2025-03-31T07:37:41.749330Z"
    }
   },
   "cell_type": "code",
   "source": [
    "print(\"正在训练模型...\")\n",
    "model = MultinomialNB()\n",
    "try:\n",
    "    model.fit(vector_resampled, labels_resampled)\n",
    "    print(\"模型训练完成!\")\n",
    "except Exception as e:\n",
    "    print(f\"模型训练失败: {str(e)}\")"
   ],
   "id": "c373b40fa50bfa0a",
   "outputs": [
    {
     "name": "stdout",
     "output_type": "stream",
     "text": [
      "正在训练模型...\n",
      "模型训练失败: name 'vector_resampled' is not defined\n"
     ]
    }
   ],
   "execution_count": 9
  },
  {
   "metadata": {
    "ExecuteTime": {
     "end_time": "2025-03-31T07:37:43.983332Z",
     "start_time": "2025-03-31T07:37:43.980331Z"
    }
   },
   "cell_type": "code",
   "source": [
    "test_files = ['邮件_files/{}.txt'.format(i) for i in range(151, 156)]\n",
    "true_labels = [0] * 5  # 这里假设测试集全是普通邮件，实际使用时需要根据真实情况修改\n",
    "predicted_labels = []"
   ],
   "id": "19333ef362c554e3",
   "outputs": [],
   "execution_count": 10
  },
  {
   "metadata": {
    "ExecuteTime": {
     "end_time": "2025-03-31T07:37:46.538336Z",
     "start_time": "2025-03-31T07:37:45.888333Z"
    }
   },
   "cell_type": "code",
   "source": [
    "print(\"\\n开始预测测试集...\")\n",
    "for filename in test_files:\n",
    "    result = predict(filename, model, selection_method=selection_method)\n",
    "    predicted_labels.append(1 if result == '垃圾邮件' else 0)\n",
    "    print(f'{filename} 分类情况: {result}')"
   ],
   "id": "5707be747979e3c2",
   "outputs": [
    {
     "name": "stdout",
     "output_type": "stream",
     "text": [
      "\n",
      "开始预测测试集...\n"
     ]
    },
    {
     "ename": "NameError",
     "evalue": "name 'selection_method' is not defined",
     "output_type": "error",
     "traceback": [
      "\u001B[1;31m---------------------------------------------------------------------------\u001B[0m",
      "\u001B[1;31mNameError\u001B[0m                                 Traceback (most recent call last)",
      "Cell \u001B[1;32mIn[11], line 3\u001B[0m\n\u001B[0;32m      1\u001B[0m \u001B[38;5;28mprint\u001B[39m(\u001B[38;5;124m\"\u001B[39m\u001B[38;5;130;01m\\n\u001B[39;00m\u001B[38;5;124m开始预测测试集...\u001B[39m\u001B[38;5;124m\"\u001B[39m)\n\u001B[0;32m      2\u001B[0m \u001B[38;5;28;01mfor\u001B[39;00m filename \u001B[38;5;129;01min\u001B[39;00m test_files:\n\u001B[1;32m----> 3\u001B[0m     result \u001B[38;5;241m=\u001B[39m predict(filename, model, selection_method\u001B[38;5;241m=\u001B[39m\u001B[43mselection_method\u001B[49m)\n\u001B[0;32m      4\u001B[0m     predicted_labels\u001B[38;5;241m.\u001B[39mappend(\u001B[38;5;241m1\u001B[39m \u001B[38;5;28;01mif\u001B[39;00m result \u001B[38;5;241m==\u001B[39m \u001B[38;5;124m'\u001B[39m\u001B[38;5;124m垃圾邮件\u001B[39m\u001B[38;5;124m'\u001B[39m \u001B[38;5;28;01melse\u001B[39;00m \u001B[38;5;241m0\u001B[39m)\n\u001B[0;32m      5\u001B[0m     \u001B[38;5;28mprint\u001B[39m(\u001B[38;5;124mf\u001B[39m\u001B[38;5;124m'\u001B[39m\u001B[38;5;132;01m{\u001B[39;00mfilename\u001B[38;5;132;01m}\u001B[39;00m\u001B[38;5;124m 分类情况: \u001B[39m\u001B[38;5;132;01m{\u001B[39;00mresult\u001B[38;5;132;01m}\u001B[39;00m\u001B[38;5;124m'\u001B[39m)\n",
      "\u001B[1;31mNameError\u001B[0m: name 'selection_method' is not defined"
     ]
    }
   ],
   "execution_count": 11
  },
  {
   "metadata": {
    "ExecuteTime": {
     "end_time": "2025-03-31T07:37:48.611337Z",
     "start_time": "2025-03-31T07:37:48.595334Z"
    }
   },
   "cell_type": "code",
   "source": [
    "print(\"\\n分类评估报告:\")\n",
    "try:\n",
    "    # 确保评估报告中有所有可能的标签\n",
    "    labels_to_show = [0, 1] if 1 in true_labels or 1 in predicted_labels else [0]\n",
    "    print(classification_report(\n",
    "        true_labels, \n",
    "        predicted_labels,\n",
    "        labels=labels_to_show,\n",
    "        zero_division=0\n",
    "    ))\n",
    "except Exception as e:\n",
    "    print(f\"生成评估报告失败: {str(e)}\")"
   ],
   "id": "3c7d15fe06f04d2c",
   "outputs": [
    {
     "name": "stdout",
     "output_type": "stream",
     "text": [
      "\n",
      "分类评估报告:\n",
      "生成评估报告失败: Found input variables with inconsistent numbers of samples: [5, 0]\n"
     ]
    }
   ],
   "execution_count": 12
  }
 ],
 "metadata": {
  "kernelspec": {
   "display_name": "Python 3",
   "language": "python",
   "name": "python3"
  },
  "language_info": {
   "codemirror_mode": {
    "name": "ipython",
    "version": 2
   },
   "file_extension": ".py",
   "mimetype": "text/x-python",
   "name": "python",
   "nbconvert_exporter": "python",
   "pygments_lexer": "ipython2",
   "version": "2.7.6"
  }
 },
 "nbformat": 4,
 "nbformat_minor": 5
}
